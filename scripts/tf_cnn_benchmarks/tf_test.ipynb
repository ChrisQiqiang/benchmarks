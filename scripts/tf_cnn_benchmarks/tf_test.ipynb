{
 "cells": [
  {
   "cell_type": "code",
   "execution_count": 12,
   "metadata": {},
   "outputs": [
    {
     "name": "stdout",
     "output_type": "stream",
     "text": [
      "<tf.Variable 'Variable_5:0' shape=() dtype=float32_ref>\n"
     ]
    }
   ],
   "source": [
    "import tensorflow as tf\n",
    "\n",
    "\n",
    "print(batches)"
   ]
  },
  {
   "cell_type": "code",
   "execution_count": 27,
   "metadata": {},
   "outputs": [
    {
     "name": "stdout",
     "output_type": "stream",
     "text": [
      "100.0\n"
     ]
    }
   ],
   "source": [
    "# Add an Op to initialize global variables.\n",
    "\n",
    "batches = tf.Variable(0.)\n",
    "batches2 = tf.Variable(100.)\n",
    "update_batches = tf.add(batches, batches2)\n",
    "# update_batches = batches.assign_add(1.)\n",
    "init_op = tf.compat.v1.global_variables_initializer()\n",
    "\n",
    "with tf.compat.v1.Session() as sess:\n",
    "    # Run the variable initializer.\n",
    "    sess.run(init_op)\n",
    "    batches_new = sess.run(update_batches)\n",
    "    print(batches_new)"
   ]
  },
  {
   "cell_type": "code",
   "execution_count": 11,
   "metadata": {},
   "outputs": [
    {
     "name": "stdout",
     "output_type": "stream",
     "text": [
      "batches:0\n",
      "batches_1:0\n",
      "global_step:0\n",
      "batches_2:0\n",
      "batches_3:0\n",
      "batches_4:0\n",
      "batches_5:0\n",
      "batches_6:0\n",
      "global_batches:0\n",
      "global_batchessss:0\n"
     ]
    }
   ],
   "source": [
    "import tensorflow as tf\n",
    "a = tf.Variable(0, name='global_batchessss')\n",
    "b = tf.train.get_or_create_global_step()\n",
    "# c = tf.train.get_or_create_global_step(name = 'batches')\n",
    "# b = tf.get_variable('b', 2)\n",
    "for v in tf.compat.v1.global_variables():\n",
    "    print(v.name)\n",
    "# print(tf.compat.v1.global_variables())"
   ]
  },
  {
   "cell_type": "code",
   "execution_count": 1,
   "metadata": {},
   "outputs": [
    {
     "name": "stdout",
     "output_type": "stream",
     "text": [
      "True\n"
     ]
    }
   ],
   "source": [
    "x = \"global_batches:0\"\n",
    "print(x.startswith('global_batches'))"
   ]
  },
  {
   "cell_type": "code",
   "execution_count": 3,
   "metadata": {},
   "outputs": [
    {
     "name": "stdout",
     "output_type": "stream",
     "text": [
      "WARNING:tensorflow:From /tmp/ipykernel_25144/1579511085.py:3: The name tf.global_variables is deprecated. Please use tf.compat.v1.global_variables instead.\n",
      "\n",
      "<tf.Variable 'chris:0' shape=() dtype=int32_ref>\n"
     ]
    }
   ],
   "source": [
    "import tensorflow as tf\n",
    "x = tf.Variable(tf.constant(100), name='chris')\n",
    "for v in tf.global_variables():\n",
    "    if v.name.startswith('chris'):\n",
    "        global_batches = v\n",
    "print(global_batches) "
   ]
  },
  {
   "cell_type": "code",
   "execution_count": null,
   "metadata": {},
   "outputs": [],
   "source": []
  }
 ],
 "metadata": {
  "kernelspec": {
   "display_name": "Python 3.7.13 ('tf1')",
   "language": "python",
   "name": "python3"
  },
  "language_info": {
   "codemirror_mode": {
    "name": "ipython",
    "version": 3
   },
   "file_extension": ".py",
   "mimetype": "text/x-python",
   "name": "python",
   "nbconvert_exporter": "python",
   "pygments_lexer": "ipython3",
   "version": "3.7.13"
  },
  "orig_nbformat": 4,
  "vscode": {
   "interpreter": {
    "hash": "2feca21969d012061b23b9d603d675411288d93447b585aa5c07bbedc9fd8341"
   }
  }
 },
 "nbformat": 4,
 "nbformat_minor": 2
}
